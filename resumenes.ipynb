{
 "cells": [
  {
   "cell_type": "code",
   "execution_count": 1,
   "metadata": {},
   "outputs": [],
   "source": [
    "import pandas as pd\n",
    "\n",
    "df = pd.read_csv(\"Mariajose\\Validaciones_14-09-2023-09-49-13\\InconsistenciasPowerBi_14-9-2023.csv\")\n",
    "df = df.drop_duplicates()\n",
    "\n",
    "resumen = (df[[\"CODIGO ERROR\",\"DEFINICION DE INCONSISTENCIA\"]]\n",
    "           .groupby(by=[\"CODIGO ERROR\", \"DEFINICION DE INCONSISTENCIA\"])\n",
    "           .size()\n",
    "           .reset_index(name='Frecuencia'))\n",
    "\n",
    "revisar = df[df[\"CODIGO ERROR\"] == \"03C0301\"]\n",
    "# resumen[\"COD-DEF\"] = resumen.index.tolist()\n",
    "# resumen = resumen.reset_index()\n"
   ]
  },
  {
   "cell_type": "code",
   "execution_count": 7,
   "metadata": {},
   "outputs": [],
   "source": [
    "resumen = resumen.sort_values(by=\"Frecuencia\", ascending=False)\n",
    "resumen.to_excel(\"Resumen-InconsistenciasPowerBi_14-9-2023.xlsx\", index=False)"
   ]
  }
 ],
 "metadata": {
  "kernelspec": {
   "display_name": "Python 3",
   "language": "python",
   "name": "python3"
  },
  "language_info": {
   "codemirror_mode": {
    "name": "ipython",
    "version": 3
   },
   "file_extension": ".py",
   "mimetype": "text/x-python",
   "name": "python",
   "nbconvert_exporter": "python",
   "pygments_lexer": "ipython3",
   "version": "3.11.2"
  },
  "orig_nbformat": 4
 },
 "nbformat": 4,
 "nbformat_minor": 2
}
