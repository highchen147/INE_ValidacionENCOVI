{
 "cells": [
  {
   "cell_type": "code",
   "execution_count": 1,
   "metadata": {},
   "outputs": [],
   "source": [
    "from INEvalidador import Validador\n",
    "from INEvalidador.automarizador_drive import subir_a_drive\n",
    "from INEvalidador.utils import condicion_a_variables\n",
    "validador = Validador(descargar=False)\n",
    "from INEvalidador.conexionSQL import baseSQL\n",
    "base_sql = baseSQL(False)"
   ]
  },
  {
   "cell_type": "code",
   "execution_count": 2,
   "metadata": {},
   "outputs": [
    {
     "name": "stderr",
     "output_type": "stream",
     "text": [
      "100%|██████████| 198/198 [03:43<00:00,  1.13s/condicion]\n"
     ]
    },
    {
     "name": "stdout",
     "output_type": "stream",
     "text": [
      "[conflicted] Will prefer dplyr::filter over any other package.\n",
      "\fSe ha creado la carpeta: Salidas_Finales/Salidas14-09-10-52-35\n"
     ]
    }
   ],
   "source": [
    "# Para validar datos de la ENCOVI, ejecuta las funciones validar_encuesta() y cuando corresponda, la función subir_a_drive\n",
    "validador.validar_encuesta(fecha_inicio=\"2023-1-1\", fecha_final=\"2023-12-31\")"
   ]
  },
  {
   "cell_type": "code",
   "execution_count": 3,
   "metadata": {},
   "outputs": [
    {
     "data": {
      "text/html": [
       "<div>\n",
       "<style scoped>\n",
       "    .dataframe tbody tr th:only-of-type {\n",
       "        vertical-align: middle;\n",
       "    }\n",
       "\n",
       "    .dataframe tbody tr th {\n",
       "        vertical-align: top;\n",
       "    }\n",
       "\n",
       "    .dataframe thead th {\n",
       "        text-align: right;\n",
       "    }\n",
       "</style>\n",
       "<table border=\"1\" class=\"dataframe\">\n",
       "  <thead>\n",
       "    <tr style=\"text-align: right;\">\n",
       "      <th></th>\n",
       "      <th>P04A08</th>\n",
       "      <th>P09B02</th>\n",
       "      <th>P09B01</th>\n",
       "      <th>P09B03</th>\n",
       "    </tr>\n",
       "  </thead>\n",
       "  <tbody>\n",
       "    <tr>\n",
       "      <th>960169</th>\n",
       "      <td>1.0</td>\n",
       "      <td>3.0</td>\n",
       "      <td>3.0</td>\n",
       "      <td>2.0</td>\n",
       "    </tr>\n",
       "    <tr>\n",
       "      <th>960170</th>\n",
       "      <td>1.0</td>\n",
       "      <td>3.0</td>\n",
       "      <td>3.0</td>\n",
       "      <td>2.0</td>\n",
       "    </tr>\n",
       "    <tr>\n",
       "      <th>960171</th>\n",
       "      <td>1.0</td>\n",
       "      <td>3.0</td>\n",
       "      <td>3.0</td>\n",
       "      <td>2.0</td>\n",
       "    </tr>\n",
       "    <tr>\n",
       "      <th>960172</th>\n",
       "      <td>1.0</td>\n",
       "      <td>3.0</td>\n",
       "      <td>3.0</td>\n",
       "      <td>2.0</td>\n",
       "    </tr>\n",
       "    <tr>\n",
       "      <th>960173</th>\n",
       "      <td>1.0</td>\n",
       "      <td>3.0</td>\n",
       "      <td>3.0</td>\n",
       "      <td>2.0</td>\n",
       "    </tr>\n",
       "    <tr>\n",
       "      <th>...</th>\n",
       "      <td>...</td>\n",
       "      <td>...</td>\n",
       "      <td>...</td>\n",
       "      <td>...</td>\n",
       "    </tr>\n",
       "    <tr>\n",
       "      <th>970952</th>\n",
       "      <td>1.0</td>\n",
       "      <td>3.0</td>\n",
       "      <td>3.0</td>\n",
       "      <td>2.0</td>\n",
       "    </tr>\n",
       "    <tr>\n",
       "      <th>970953</th>\n",
       "      <td>1.0</td>\n",
       "      <td>3.0</td>\n",
       "      <td>3.0</td>\n",
       "      <td>2.0</td>\n",
       "    </tr>\n",
       "    <tr>\n",
       "      <th>970954</th>\n",
       "      <td>1.0</td>\n",
       "      <td>3.0</td>\n",
       "      <td>3.0</td>\n",
       "      <td>2.0</td>\n",
       "    </tr>\n",
       "    <tr>\n",
       "      <th>970955</th>\n",
       "      <td>1.0</td>\n",
       "      <td>3.0</td>\n",
       "      <td>3.0</td>\n",
       "      <td>2.0</td>\n",
       "    </tr>\n",
       "    <tr>\n",
       "      <th>970956</th>\n",
       "      <td>1.0</td>\n",
       "      <td>3.0</td>\n",
       "      <td>3.0</td>\n",
       "      <td>2.0</td>\n",
       "    </tr>\n",
       "  </tbody>\n",
       "</table>\n",
       "<p>10788 rows × 4 columns</p>\n",
       "</div>"
      ],
      "text/plain": [
       "        P04A08  P09B02  P09B01  P09B03\n",
       "960169     1.0     3.0     3.0     2.0\n",
       "960170     1.0     3.0     3.0     2.0\n",
       "960171     1.0     3.0     3.0     2.0\n",
       "960172     1.0     3.0     3.0     2.0\n",
       "960173     1.0     3.0     3.0     2.0\n",
       "...        ...     ...     ...     ...\n",
       "970952     1.0     3.0     3.0     2.0\n",
       "970953     1.0     3.0     3.0     2.0\n",
       "970954     1.0     3.0     3.0     2.0\n",
       "970955     1.0     3.0     3.0     2.0\n",
       "970956     1.0     3.0     3.0     2.0\n",
       "\n",
       "[10788 rows x 4 columns]"
      ]
     },
     "execution_count": 3,
     "metadata": {},
     "output_type": "execute_result"
    }
   ],
   "source": [
    "cadena = \"P04A08 = 1 & (P09B01 no es (vacío) | P09B02 no es (vacío) | P09B03 no es (vacío) )\"\n",
    "# Hay error al incluir P09B04 no es (vacío)\n",
    "\n",
    "validador.filter_base(cadena, list(condicion_a_variables(cadena)), fecha_inicio=\"2023-01-01\", fecha_final=\"2023-12-31\")\n"
   ]
  },
  {
   "cell_type": "code",
   "execution_count": 12,
   "metadata": {},
   "outputs": [
    {
     "data": {
      "text/plain": [
       "'visitas'"
      ]
     },
     "execution_count": 12,
     "metadata": {},
     "output_type": "execute_result"
    }
   ],
   "source": [
    "condicion = \"P05B01 = 2 & (P05D01 no es (vacío) | P05D02 no es (vacío) | P05D02A no es (vacío) | P05D03 no es (vacío) | P05D04A no es (vacío) | P05D04B no es (vacío) | P05D05 no es (vacío) | P05D05A no es (vacío) | P05D06 no es (vacío) | P05D07 no es (vacío) | P05D08 no es (vacío) | P05D09 no es (vacío) | P05D10 no es (vacío) | P05D11 no es (vacío) | P05D12 no es (vacío) | P05D13 no es (vacío) | P05D14 no es (vacío) |P05D15 no es (vacío) | P05E01 no es (vacío) | P05E01A no es (vacío))\"\n",
    "variables = condicion_a_variables(\"P05B01 = 2 & (P05D01 no es (vacío) | P05D02 no es (vacío) | P05D02A no es (vacío) | P05D03 no es (vacío) | P05D04A no es (vacío) | P05D04B no es (vacío) | P05D05 no es (vacío) | P05D05A no es (vacío) | P05D06 no es (vacío) | P05D07 no es (vacío) | P05D08 no es (vacío) | P05D09 no es (vacío) | P05D10 no es (vacío) | P05D11 no es (vacío) | P05D12 no es (vacío) | P05D13 no es (vacío) | P05D14 no es (vacío) |P05D15 no es (vacío) | P05E01 no es (vacío) | P05E01A no es (vacío))\")\n",
    "\n",
    "# df_a_unir = list(set([base_col.get(var) for var in variables]))\n",
    "#         # tipo = df_a_unir[0][-2:] # devuelve SR o PR\n",
    "\n",
    "# df_a_unir = [base_df.get(archivo) for archivo in df_a_unir] \n",
    "\n",
    "# df_base = base_df.get(f'level-1')\n",
    "# for df in df_a_unir:\n",
    "#     df = df.drop('INDEX', axis=1)\n",
    "#     df_base = pd.merge(df_base, df, on='LEVEL-1-ID', how='inner')\n",
    "\n",
    "# df_cases = base_df.get(f'cases')\n",
    "# df_base = pd.merge(df_base, df_cases, left_on='CASE-ID', right_on='ID', how='inner')\n",
    "# # Puede que el nombre de la variable DELETED cambie para la base de ENCABIH\n",
    "# df_base = df_base.query('DELETED == 0')\n",
    "import pandas as pd\n",
    "\n",
    "visitas_df = pd.read_feather(\"db/visitas.feather\")\n",
    "\n",
    "base_sql.base_col[\"OCC\"]"
   ]
  },
  {
   "cell_type": "code",
   "execution_count": 14,
   "metadata": {},
   "outputs": [
    {
     "ename": "MergeError",
     "evalue": "Passing 'suffixes' which cause duplicate columns {'OCC_x'} is not allowed.",
     "output_type": "error",
     "traceback": [
      "\u001b[1;31m---------------------------------------------------------------------------\u001b[0m",
      "\u001b[1;31mMergeError\u001b[0m                                Traceback (most recent call last)",
      "Cell \u001b[1;32mIn[14], line 1\u001b[0m\n\u001b[1;32m----> 1\u001b[0m a \u001b[39m=\u001b[39m base_sql\u001b[39m.\u001b[39;49mdf_para_condicion(condicion \u001b[39m=\u001b[39;49m \u001b[39m\"\u001b[39;49m\u001b[39mP05B01 = 2 & (P05D01 no es (vacío) | P05D02 no es (vacío) | P05D02A no es (vacío) | P05D03 no es (vacío) | P05D04A no es (vacío) | P05D04B no es (vacío) | P05D05 no es (vacío) | P05D05A no es (vacío) | P05D06 no es (vacío) | P05D07 no es (vacío) | P05D08 no es (vacío) | P05D09 no es (vacío) | P05D10 no es (vacío) | P05D11 no es (vacío) | P05D12 no es (vacío) | P05D13 no es (vacío) | P05D14 no es (vacío) |P05D15 no es (vacío) | P05E01 no es (vacío) | P05E01A no es (vacío))\u001b[39;49m\u001b[39m\"\u001b[39;49m,\n\u001b[0;32m      2\u001b[0m                               fecha_inicio\u001b[39m=\u001b[39;49m\u001b[39m\"\u001b[39;49m\u001b[39m2023-01-01\u001b[39;49m\u001b[39m\"\u001b[39;49m, \n\u001b[0;32m      3\u001b[0m                               fecha_final\u001b[39m=\u001b[39;49m\u001b[39m\"\u001b[39;49m\u001b[39m2023-12-31\u001b[39;49m\u001b[39m\"\u001b[39;49m)\n",
      "File \u001b[1;32mc:\\Users\\rrcastillo\\OneDrive - ine.gob.gt\\ENCABIH\\Validador\\INE_ValidacionENCOVI\\INEvalidador\\conexionSQL.py:82\u001b[0m, in \u001b[0;36mbaseSQL.df_para_condicion\u001b[1;34m(self, condicion, fecha_inicio, fecha_final)\u001b[0m\n\u001b[0;32m     80\u001b[0m control_df \u001b[39m=\u001b[39m columnas_a_mayuscula(control_df)\n\u001b[0;32m     81\u001b[0m \u001b[39m# Unir a base raiz\u001b[39;00m\n\u001b[1;32m---> 82\u001b[0m df_base \u001b[39m=\u001b[39m pd\u001b[39m.\u001b[39;49mmerge(df_base, visitas_df, on\u001b[39m=\u001b[39;49m\u001b[39m\"\u001b[39;49m\u001b[39mLEVEL-1-ID\u001b[39;49m\u001b[39m\"\u001b[39;49m, how\u001b[39m=\u001b[39;49m\u001b[39m\"\u001b[39;49m\u001b[39minner\u001b[39;49m\u001b[39m\"\u001b[39;49m)\n\u001b[0;32m     83\u001b[0m df_base \u001b[39m=\u001b[39m df_base\u001b[39m.\u001b[39mdrop(\u001b[39m\"\u001b[39m\u001b[39mINDEX\u001b[39m\u001b[39m\"\u001b[39m, axis\u001b[39m=\u001b[39m\u001b[39m1\u001b[39m)\n\u001b[0;32m     84\u001b[0m df_base \u001b[39m=\u001b[39m pd\u001b[39m.\u001b[39mmerge(df_base, control_df, on\u001b[39m=\u001b[39m\u001b[39m\"\u001b[39m\u001b[39mLEVEL-1-ID\u001b[39m\u001b[39m\"\u001b[39m, how\u001b[39m=\u001b[39m\u001b[39m\"\u001b[39m\u001b[39minner\u001b[39m\u001b[39m\"\u001b[39m)\n",
      "File \u001b[1;32mc:\\Users\\rrcastillo\\AppData\\Local\\Programs\\Python\\Python311\\Lib\\site-packages\\pandas\\core\\reshape\\merge.py:162\u001b[0m, in \u001b[0;36mmerge\u001b[1;34m(left, right, how, on, left_on, right_on, left_index, right_index, sort, suffixes, copy, indicator, validate)\u001b[0m\n\u001b[0;32m    131\u001b[0m \u001b[39m@Substitution\u001b[39m(\u001b[39m\"\u001b[39m\u001b[39m\\n\u001b[39;00m\u001b[39mleft : DataFrame or named Series\u001b[39m\u001b[39m\"\u001b[39m)\n\u001b[0;32m    132\u001b[0m \u001b[39m@Appender\u001b[39m(_merge_doc, indents\u001b[39m=\u001b[39m\u001b[39m0\u001b[39m)\n\u001b[0;32m    133\u001b[0m \u001b[39mdef\u001b[39;00m \u001b[39mmerge\u001b[39m(\n\u001b[1;32m   (...)\u001b[0m\n\u001b[0;32m    146\u001b[0m     validate: \u001b[39mstr\u001b[39m \u001b[39m|\u001b[39m \u001b[39mNone\u001b[39;00m \u001b[39m=\u001b[39m \u001b[39mNone\u001b[39;00m,\n\u001b[0;32m    147\u001b[0m ) \u001b[39m-\u001b[39m\u001b[39m>\u001b[39m DataFrame:\n\u001b[0;32m    148\u001b[0m     op \u001b[39m=\u001b[39m _MergeOperation(\n\u001b[0;32m    149\u001b[0m         left,\n\u001b[0;32m    150\u001b[0m         right,\n\u001b[1;32m   (...)\u001b[0m\n\u001b[0;32m    160\u001b[0m         validate\u001b[39m=\u001b[39mvalidate,\n\u001b[0;32m    161\u001b[0m     )\n\u001b[1;32m--> 162\u001b[0m     \u001b[39mreturn\u001b[39;00m op\u001b[39m.\u001b[39;49mget_result(copy\u001b[39m=\u001b[39;49mcopy)\n",
      "File \u001b[1;32mc:\\Users\\rrcastillo\\AppData\\Local\\Programs\\Python\\Python311\\Lib\\site-packages\\pandas\\core\\reshape\\merge.py:811\u001b[0m, in \u001b[0;36m_MergeOperation.get_result\u001b[1;34m(self, copy)\u001b[0m\n\u001b[0;32m    807\u001b[0m     \u001b[39mself\u001b[39m\u001b[39m.\u001b[39mleft, \u001b[39mself\u001b[39m\u001b[39m.\u001b[39mright \u001b[39m=\u001b[39m \u001b[39mself\u001b[39m\u001b[39m.\u001b[39m_indicator_pre_merge(\u001b[39mself\u001b[39m\u001b[39m.\u001b[39mleft, \u001b[39mself\u001b[39m\u001b[39m.\u001b[39mright)\n\u001b[0;32m    809\u001b[0m join_index, left_indexer, right_indexer \u001b[39m=\u001b[39m \u001b[39mself\u001b[39m\u001b[39m.\u001b[39m_get_join_info()\n\u001b[1;32m--> 811\u001b[0m result \u001b[39m=\u001b[39m \u001b[39mself\u001b[39;49m\u001b[39m.\u001b[39;49m_reindex_and_concat(\n\u001b[0;32m    812\u001b[0m     join_index, left_indexer, right_indexer, copy\u001b[39m=\u001b[39;49mcopy\n\u001b[0;32m    813\u001b[0m )\n\u001b[0;32m    814\u001b[0m result \u001b[39m=\u001b[39m result\u001b[39m.\u001b[39m__finalize__(\u001b[39mself\u001b[39m, method\u001b[39m=\u001b[39m\u001b[39mself\u001b[39m\u001b[39m.\u001b[39m_merge_type)\n\u001b[0;32m    816\u001b[0m \u001b[39mif\u001b[39;00m \u001b[39mself\u001b[39m\u001b[39m.\u001b[39mindicator:\n",
      "File \u001b[1;32mc:\\Users\\rrcastillo\\AppData\\Local\\Programs\\Python\\Python311\\Lib\\site-packages\\pandas\\core\\reshape\\merge.py:763\u001b[0m, in \u001b[0;36m_MergeOperation._reindex_and_concat\u001b[1;34m(self, join_index, left_indexer, right_indexer, copy)\u001b[0m\n\u001b[0;32m    760\u001b[0m left \u001b[39m=\u001b[39m \u001b[39mself\u001b[39m\u001b[39m.\u001b[39mleft[:]\n\u001b[0;32m    761\u001b[0m right \u001b[39m=\u001b[39m \u001b[39mself\u001b[39m\u001b[39m.\u001b[39mright[:]\n\u001b[1;32m--> 763\u001b[0m llabels, rlabels \u001b[39m=\u001b[39m _items_overlap_with_suffix(\n\u001b[0;32m    764\u001b[0m     \u001b[39mself\u001b[39;49m\u001b[39m.\u001b[39;49mleft\u001b[39m.\u001b[39;49m_info_axis, \u001b[39mself\u001b[39;49m\u001b[39m.\u001b[39;49mright\u001b[39m.\u001b[39;49m_info_axis, \u001b[39mself\u001b[39;49m\u001b[39m.\u001b[39;49msuffixes\n\u001b[0;32m    765\u001b[0m )\n\u001b[0;32m    767\u001b[0m \u001b[39mif\u001b[39;00m left_indexer \u001b[39mis\u001b[39;00m \u001b[39mnot\u001b[39;00m \u001b[39mNone\u001b[39;00m \u001b[39mand\u001b[39;00m \u001b[39mnot\u001b[39;00m is_range_indexer(left_indexer, \u001b[39mlen\u001b[39m(left)):\n\u001b[0;32m    768\u001b[0m     \u001b[39m# Pinning the index here (and in the right code just below) is not\u001b[39;00m\n\u001b[0;32m    769\u001b[0m     \u001b[39m#  necessary, but makes the `.take` more performant if we have e.g.\u001b[39;00m\n\u001b[0;32m    770\u001b[0m     \u001b[39m#  a MultiIndex for left.index.\u001b[39;00m\n\u001b[0;32m    771\u001b[0m     lmgr \u001b[39m=\u001b[39m left\u001b[39m.\u001b[39m_mgr\u001b[39m.\u001b[39mreindex_indexer(\n\u001b[0;32m    772\u001b[0m         join_index,\n\u001b[0;32m    773\u001b[0m         left_indexer,\n\u001b[1;32m   (...)\u001b[0m\n\u001b[0;32m    778\u001b[0m         use_na_proxy\u001b[39m=\u001b[39m\u001b[39mTrue\u001b[39;00m,\n\u001b[0;32m    779\u001b[0m     )\n",
      "File \u001b[1;32mc:\\Users\\rrcastillo\\AppData\\Local\\Programs\\Python\\Python311\\Lib\\site-packages\\pandas\\core\\reshape\\merge.py:2640\u001b[0m, in \u001b[0;36m_items_overlap_with_suffix\u001b[1;34m(left, right, suffixes)\u001b[0m\n\u001b[0;32m   2638\u001b[0m     dups\u001b[39m.\u001b[39mextend(rlabels[(rlabels\u001b[39m.\u001b[39mduplicated()) \u001b[39m&\u001b[39m (\u001b[39m~\u001b[39mright\u001b[39m.\u001b[39mduplicated())]\u001b[39m.\u001b[39mtolist())\n\u001b[0;32m   2639\u001b[0m \u001b[39mif\u001b[39;00m dups:\n\u001b[1;32m-> 2640\u001b[0m     \u001b[39mraise\u001b[39;00m MergeError(\n\u001b[0;32m   2641\u001b[0m         \u001b[39mf\u001b[39m\u001b[39m\"\u001b[39m\u001b[39mPassing \u001b[39m\u001b[39m'\u001b[39m\u001b[39msuffixes\u001b[39m\u001b[39m'\u001b[39m\u001b[39m which cause duplicate columns \u001b[39m\u001b[39m{\u001b[39;00m\u001b[39mset\u001b[39m(dups)\u001b[39m}\u001b[39;00m\u001b[39m is \u001b[39m\u001b[39m\"\u001b[39m\n\u001b[0;32m   2642\u001b[0m         \u001b[39mf\u001b[39m\u001b[39m\"\u001b[39m\u001b[39mnot allowed.\u001b[39m\u001b[39m\"\u001b[39m,\n\u001b[0;32m   2643\u001b[0m     )\n\u001b[0;32m   2645\u001b[0m \u001b[39mreturn\u001b[39;00m llabels, rlabels\n",
      "\u001b[1;31mMergeError\u001b[0m: Passing 'suffixes' which cause duplicate columns {'OCC_x'} is not allowed."
     ]
    }
   ],
   "source": [
    "a = base_sql.df_para_condicion(condicion = \"P05B01 = 2 & (P05D01 no es (vacío) | P05D02 no es (vacío) | P05D02A no es (vacío) | P05D03 no es (vacío) | P05D04A no es (vacío) | P05D04B no es (vacío) | P05D05 no es (vacío) | P05D05A no es (vacío) | P05D06 no es (vacío) | P05D07 no es (vacío) | P05D08 no es (vacío) | P05D09 no es (vacío) | P05D10 no es (vacío) | P05D11 no es (vacío) | P05D12 no es (vacío) | P05D13 no es (vacío) | P05D14 no es (vacío) |P05D15 no es (vacío) | P05E01 no es (vacío) | P05E01A no es (vacío))\",\n",
    "                              fecha_inicio=\"2023-01-01\", \n",
    "                              fecha_final=\"2023-12-31\")\n",
    "\n"
   ]
  },
  {
   "cell_type": "code",
   "execution_count": null,
   "metadata": {},
   "outputs": [],
   "source": [
    "validador.subir_a_drive(\"C:/Users/rrcastillo/Desktop/car\")"
   ]
  }
 ],
 "metadata": {
  "kernelspec": {
   "display_name": "Python 3",
   "language": "python",
   "name": "python3"
  },
  "language_info": {
   "codemirror_mode": {
    "name": "ipython",
    "version": 3
   },
   "file_extension": ".py",
   "mimetype": "text/x-python",
   "name": "python",
   "nbconvert_exporter": "python",
   "pygments_lexer": "ipython3",
   "version": "3.11.2"
  },
  "orig_nbformat": 4
 },
 "nbformat": 4,
 "nbformat_minor": 2
}
