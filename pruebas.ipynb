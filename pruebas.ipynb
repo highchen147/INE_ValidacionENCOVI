{
 "cells": [
  {
   "cell_type": "code",
   "execution_count": 1,
   "metadata": {},
   "outputs": [],
   "source": [
    "from INEvalidador import Validador\n",
    "# from INEvalidador.automarizador_drive import subir_a_drive\n",
    "from INEvalidador.utils import condicion_a_variables, extraer_UPMS\n",
    "validador = Validador(descargar=False)\n",
    "from INEvalidador.conexionSQL import baseSQL\n",
    "base_sql = baseSQL(False)"
   ]
  },
  {
   "cell_type": "code",
   "execution_count": null,
   "metadata": {},
   "outputs": [],
   "source": [
    "# Para validar datos de la ENCOVI, ejecuta las funciones validar_encuesta() y cuando corresponda, la función subir_a_drive\n",
    "validador.validar_encuesta(fecha_inicio=\"2023-1-1\", fecha_final=\"2023-9-19\")"
   ]
  },
  {
   "cell_type": "code",
   "execution_count": null,
   "metadata": {},
   "outputs": [],
   "source": [
    "validador.subir_a_drive(\"Salidas_Finales/Salidas19-09-15-56-05\")"
   ]
  },
  {
   "cell_type": "code",
   "execution_count": 3,
   "metadata": {},
   "outputs": [
    {
     "data": {
      "text/plain": [
       "'(P04A08 in (1,3,6,7) & (~P09A01A.isnull() | ~P09A01B.isnull() | ~P09A02.isnull() | ~P09A03.isnull() | ~P09A04.isnull() | ~P09A05.isnull() | ~P09A06.isnull() | ~P09A07.isnull() | ~P09A08.isnull() | ~P09A09.isnull() | ~P09A10.isnull() | ~P09A11.isnull() | ~P09A12.isnull() | (~P09A12A.isna() & P09A12A != \"\" ) | ~P09A13.isnull() | (~P09A13A.isna() & P09A13A != \"\" ) | ~P09A14.isnull() | ~P09A15.isnull() | ~P09A16.isnull() | ~P09A17.isnull() | (~P09A17A.isna() & P09A17A != \"\" ) | ~P09A18A.isnull() | ~P09A18B.isnull() | ~P09A18C.isnull() | ~P09A18D.isnull() | ~P09A18E.isnull() | ~P09A18F.isnull() | ~P09A19.isnull() | (~P09A19A.isna() & P09A19A != \"\" )))'"
      ]
     },
     "execution_count": 3,
     "metadata": {},
     "output_type": "execute_result"
    }
   ],
   "source": [
    "import pandas as pd\n",
    "cadena = \"P04A08 está en (1,3,6,7) & (P09A01A no es (vacío) | P09A01B no es (vacío) | P09A02 no es (vacío) | P09A03 no es (vacío) | P09A04 no es (vacío) | P09A05 no es (vacío) | P09A06 no es (vacío) | P09A07 no es (vacío) | P09A08 no es (vacío) | P09A09 no es (vacío) | P09A10 no es (vacío) | P09A11 no es (vacío) | P09A12 no es (vacío) | P09A12A no es (vacío) | P09A13 no es (vacío) | P09A13A no es (vacío) | P09A14 no es (vacío) | P09A15 no es (vacío) | P09A16 no es (vacío) | P09A17 no es (vacío) | P09A17A no es (vacío) | P09A18A no es (vacío) | P09A18B no es (vacío) | P09A18C no es (vacío) | P09A18D no es (vacío) | P09A18E no es (vacío) | P09A18F no es (vacío) | P09A19 no es (vacío) | P09A19A no es (vacío))\"\n",
    "# Hay error al incluir P09B04 no es (vacío)\n",
    "# cadena = \"P04A01 = 1 & P04A02 = 3 & P04A08 <> 4\"\n",
    "\n",
    "a = validador.filter_base(cadena, list(condicion_a_variables(cadena)), fecha_inicio=\"2023-01-01\", fecha_final=\"2023-12-31\")\n",
    "query = validador.leer_condicion(cadena)\n",
    "\n",
    "df_con_variables = base_sql.df_para_condicion(cadena, fecha_inicio=\"2023-01-01\", fecha_final=\"2023-12-31\")\n",
    "# query_corregido = \"(P04A08 in (1,3, 6,7) & (~P09A01A.isnull() | ~P09A11.isnull() | ~P09A12.isnull() | (~P09A12A.isna() & P09A12A != \"\") ))\"\n",
    "\n",
    "df_con_variables_filtrado = df_con_variables.query(query)[list(condicion_a_variables(cadena))]\n",
    "# validador.leer_condicion(cadena)\n",
    "# data = data[[\"P03A01\"]]\n",
    "# import pandas as pd\n",
    "# any(pd.isna(data[\"P03A01\"]))\n",
    "# any(pd.isna(data[[\"P09A13A\"]]))\n",
    "\n",
    "# vacios_13A = data[pd.isna(data[[\"P09A13A\"]])]\n",
    "\n",
    "# a.columns.tolist().pop(\"P04A08\")\n",
    "# cols_mostrar = [\"P04A08\"]\n",
    "# # cols_mostrar += a.columns.tolist().pop(\"P04A08\")\n",
    "# a = a[cols_mostrar]\n",
    "# validador.columnas_condicion_nula(cadena)\n",
    "query"
   ]
  },
  {
   "cell_type": "code",
   "execution_count": null,
   "metadata": {},
   "outputs": [],
   "source": [
    "condicion = \"P05B01 = 2 & (P05D01 no es (vacío) | P05D02 no es (vacío) | P05D02A no es (vacío) | P05D03 no es (vacío) | P05D04A no es (vacío) | P05D04B no es (vacío) | P05D05 no es (vacío) | P05D05A no es (vacío) | P05D06 no es (vacío) | P05D07 no es (vacío) | P05D08 no es (vacío) | P05D09 no es (vacío) | P05D10 no es (vacío) | P05D11 no es (vacío) | P05D12 no es (vacío) | P05D13 no es (vacío) | P05D14 no es (vacío) |P05D15 no es (vacío) | P05E01 no es (vacío) | P05E01A no es (vacío))\"\n",
    "variables = condicion_a_variables(\"P05B01 = 2 & (P05D01 no es (vacío) | P05D02 no es (vacío) | P05D02A no es (vacío) | P05D03 no es (vacío) | P05D04A no es (vacío) | P05D04B no es (vacío) | P05D05 no es (vacío) | P05D05A no es (vacío) | P05D06 no es (vacío) | P05D07 no es (vacío) | P05D08 no es (vacío) | P05D09 no es (vacío) | P05D10 no es (vacío) | P05D11 no es (vacío) | P05D12 no es (vacío) | P05D13 no es (vacío) | P05D14 no es (vacío) |P05D15 no es (vacío) | P05E01 no es (vacío) | P05E01A no es (vacío))\")\n",
    "\n",
    "# df_a_unir = list(set([base_col.get(var) for var in variables]))\n",
    "#         # tipo = df_a_unir[0][-2:] # devuelve SR o PR\n",
    "\n",
    "# df_a_unir = [base_df.get(archivo) for archivo in df_a_unir] \n",
    "\n",
    "# df_base = base_df.get(f'level-1')\n",
    "# for df in df_a_unir:\n",
    "#     df = df.drop('INDEX', axis=1)\n",
    "#     df_base = pd.merge(df_base, df, on='LEVEL-1-ID', how='inner')\n",
    "\n",
    "# df_cases = base_df.get(f'cases')\n",
    "# df_base = pd.merge(df_base, df_cases, left_on='CASE-ID', right_on='ID', how='inner')\n",
    "# # Puede que el nombre de la variable DELETED cambie para la base de ENCABIH\n",
    "# df_base = df_base.query('DELETED == 0')\n",
    "import pandas as pd\n",
    "\n",
    "visitas_df = pd.read_feather(\"db/visitas.feather\")\n",
    "\n",
    "base_sql.base_col[\"OCC\"]"
   ]
  },
  {
   "cell_type": "code",
   "execution_count": null,
   "metadata": {},
   "outputs": [],
   "source": [
    "a = base_sql.df_para_condicion(condicion = \"P05B01 = 2 & (P05D01 no es (vacío) | P05D02 no es (vacío) | P05D02A no es (vacío) | P05D03 no es (vacío) | P05D04A no es (vacío) | P05D04B no es (vacío) | P05D05 no es (vacío) | P05D05A no es (vacío) | P05D06 no es (vacío) | P05D07 no es (vacío) | P05D08 no es (vacío) | P05D09 no es (vacío) | P05D10 no es (vacío) | P05D11 no es (vacío) | P05D12 no es (vacío) | P05D13 no es (vacío) | P05D14 no es (vacío) |P05D15 no es (vacío) | P05E01 no es (vacío) | P05E01A no es (vacío))\",\n",
    "                              fecha_inicio=\"2023-01-01\", \n",
    "                              fecha_final=\"2023-12-31\")\n",
    "\n"
   ]
  },
  {
   "cell_type": "code",
   "execution_count": null,
   "metadata": {},
   "outputs": [],
   "source": [
    "validador.subir_a_drive(\"C:/Users/rrcastillo/Desktop/car\")"
   ]
  },
  {
   "cell_type": "code",
   "execution_count": null,
   "metadata": {},
   "outputs": [],
   "source": [
    "import pandas as pd\n",
    "grupos_upm = pd.read_excel(\"UPMS.xlsx\")\n",
    "power_resumen = pd.read_excel(\"Mariajose/Validaciones_18-09-2023-13-06-27/InconsistenciasPowerBi_18-9-2023.xlsx\")\n",
    "\n",
    "upm_de_grupos = pd.DataFrame({\"UPM\" : grupos_upm[\"UPM\"].unique()})\n",
    "upm_de_grupos[\"CORRELATIVO\"] = range(upm_de_grupos.shape[0])\n",
    "upm_de_power = pd.DataFrame({\"UPM\" : power_resumen[\"COD_UPM\"].unique()})\n",
    "upm_de_power[\"CORRELATIVO\"] = range(upm_de_power.shape[0])\n",
    "# upm_de_power = upm_de_power.rename({\"0\":\"UPM\"})\n",
    "\n",
    "# a = pd.merge(upm_de_grupos, upm_de_power, on = \"UPM\")\n",
    "\n",
    "for a_upm_de_power in upm_de_power[\"UPM\"]:\n",
    "    if a_upm_de_power in upm_de_grupos[\"UPM\"]:\n",
    "        print(\"está\", a_upm_de_power)\n",
    "\n",
    "\"AEE010100025A1\" in upm_de_grupos[\"UPM\"].tolist()"
   ]
  },
  {
   "cell_type": "code",
   "execution_count": null,
   "metadata": {},
   "outputs": [],
   "source": [
    "import pandas as pd\n",
    "file = \"estructuras(1).xlsx\"\n",
    "df = pd.read_excel(file, sheet_name=\"Validaciones\")\n",
    "# df[\"CÓDIGO DE ERROR\"].to_csv(\"validaciones_validas.csv\", index=False)\n",
    "\n",
    "conds_validas = set(df[\"CONDICIÓN O CRITERIO\"])\n",
    "df_power = pd.read_excel(\"Mariajose/Validaciones_19-09-2023-15-55-01/InconsistenciasResumen_19-9-2023.xlsx\")\n",
    "\n",
    "conds_power = set(df_power[\"CONDICION\"])\n",
    "\n",
    "conds_power - (conds_validas - (conds_validas - conds_power))\n",
    "\n",
    "# \"P04C01 = 1 & P04C02\" in df[\"CONDICIÓN O CRITERIO\"].tolist()\n"
   ]
  }
 ],
 "metadata": {
  "kernelspec": {
   "display_name": "Python 3",
   "language": "python",
   "name": "python3"
  },
  "language_info": {
   "codemirror_mode": {
    "name": "ipython",
    "version": 3
   },
   "file_extension": ".py",
   "mimetype": "text/x-python",
   "name": "python",
   "nbconvert_exporter": "python",
   "pygments_lexer": "ipython3",
   "version": "3.11.2"
  },
  "orig_nbformat": 4
 },
 "nbformat": 4,
 "nbformat_minor": 2
}
