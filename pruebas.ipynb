{
 "cells": [
  {
   "cell_type": "code",
   "execution_count": 1,
   "metadata": {},
   "outputs": [],
   "source": [
    "from INEvalidador import Validador\n",
    "# from INEvalidador.automarizador_drive import subir_a_drive\n",
    "from INEvalidador.utils import condicion_a_variables, extraer_UPMS\n",
    "validador = Validador(descargar=True)\n",
    "from INEvalidador.conexionSQL import baseSQL\n",
    "base_sql = baseSQL(True)"
   ]
  },
  {
   "cell_type": "code",
   "execution_count": 41,
   "metadata": {},
   "outputs": [
    {
     "data": {
      "text/plain": [
       "('P03A04D', 'P03A04C', 'P03A03')"
      ]
     },
     "execution_count": 41,
     "metadata": {},
     "output_type": "execute_result"
    }
   ],
   "source": [
    "import re\n",
    "import pandas as pd\n",
    "from typing import List\n",
    "\n",
    "def condicion_a_variables_og(condicion: str) -> List[str]:\n",
    "    # La expresión regular coincide con palabras que consisten en letras, números y guiones bajos (_), separadas por guiones bajos\n",
    "    pattern = r'\\b[A-Z][A-Z0-9]+\\b'\n",
    "    # Utilizamos la función findall para encontrar todas las coincidencias en el texto\n",
    "    return tuple(set(re.findall(pattern, condicion)))\n",
    "\n",
    "def condicion_a_variables_good(condicion: str) -> List[str]:\n",
    "    # La expresión regular coincide con palabras que consisten en letras, números y guiones bajos (_), separadas por guiones bajos\n",
    "    pattern = r'\\b[A-Z][A-Z0-9]+(?:_[A-Z0-9]+)*\\b'\n",
    "    # Utilizamos la función findall para encontrar todas las coincidencias en el texto\n",
    "    return tuple(set(re.findall(pattern, condicion)))\n",
    "\n",
    "def condicion_a_variables_basura(condicion: str) -> List[str]:\n",
    "    # La expresión regular coincide con palabras que consisten en letras, números y guiones bajos (_), separadas por guiones bajos\n",
    "    pattern = r'\\b[A-Z0-9]+(?:_[A-Z0-9]+)*\\b'\n",
    "    # Utilizamos la función findall para encontrar todas las coincidencias en el texto\n",
    "    return tuple(set(re.findall(pattern, condicion)))\n",
    "\n",
    "condicion_a_variables_good(\"P01A01 == COD_UPM y P01A02 está en (1,2) y P01A03 == ID_P01\")\n",
    "condicion_a_variables_good(\"P03A03 <> (2023 - P03A04D) & (P03A04C < 9 & P03A03 no está en (0,97))\")\n"
   ]
  },
  {
   "cell_type": "code",
   "execution_count": null,
   "metadata": {},
   "outputs": [],
   "source": []
  },
  {
   "cell_type": "code",
   "execution_count": null,
   "metadata": {},
   "outputs": [],
   "source": []
  },
  {
   "cell_type": "code",
   "execution_count": 2,
   "metadata": {},
   "outputs": [
    {
     "name": "stderr",
     "output_type": "stream",
     "text": [
      "  0%|          | 0/212 [00:00<?, ?condicion/s]"
     ]
    },
    {
     "name": "stderr",
     "output_type": "stream",
     "text": [
      "100%|██████████| 212/212 [00:03<00:00, 59.23condicion/s] \n"
     ]
    },
    {
     "name": "stdout",
     "output_type": "stream",
     "text": [
      "[conflicted] Will prefer dplyr::filter over any other package.\n",
      "\fSe ha creado la carpeta: Salidas_Finales/Salidas21-09-09-27-40\n"
     ]
    }
   ],
   "source": [
    "# Para validar datos de la ENCOVI, ejecuta las funciones validar_encuesta() y cuando corresponda, la función subir_a_drive\n",
    "validador.validar_encuesta(fecha_inicio=\"2023-9-13\", fecha_final=\"2023-9-21\")"
   ]
  },
  {
   "cell_type": "code",
   "execution_count": null,
   "metadata": {},
   "outputs": [],
   "source": [
    "validador.subir_a_drive(\"Salidas_Finales/Salidas20-09-16-00-37\")"
   ]
  },
  {
   "cell_type": "code",
   "execution_count": 15,
   "metadata": {},
   "outputs": [
    {
     "data": {
      "text/plain": [
       "['P03A03', 'P03A12']"
      ]
     },
     "execution_count": 15,
     "metadata": {},
     "output_type": "execute_result"
    }
   ],
   "source": [
    "import pandas as pd\n",
    "cadena = \"P03A03 < 12 & P03A12 <> 8 & COD_UPM no es vacío\"\n",
    "\n",
    "a = validador.filter_base(cadena, list(condicion_a_variables(cadena)), fecha_inicio=\"2023-9-13\", fecha_final=\"2023-9-21\")\n",
    "list(condicion_a_variables(cadena))\n",
    "\n",
    "\n"
   ]
  },
  {
   "cell_type": "code",
   "execution_count": null,
   "metadata": {},
   "outputs": [],
   "source": [
    "condicion = \"P05B01 = 2 & (P05D01 no es (vacío) | P05D02 no es (vacío) | P05D02A no es (vacío) | P05D03 no es (vacío) | P05D04A no es (vacío) | P05D04B no es (vacío) | P05D05 no es (vacío) | P05D05A no es (vacío) | P05D06 no es (vacío) | P05D07 no es (vacío) | P05D08 no es (vacío) | P05D09 no es (vacío) | P05D10 no es (vacío) | P05D11 no es (vacío) | P05D12 no es (vacío) | P05D13 no es (vacío) | P05D14 no es (vacío) |P05D15 no es (vacío) | P05E01 no es (vacío) | P05E01A no es (vacío))\"\n",
    "variables = condicion_a_variables(\"P05B01 = 2 & (P05D01 no es (vacío) | P05D02 no es (vacío) | P05D02A no es (vacío) | P05D03 no es (vacío) | P05D04A no es (vacío) | P05D04B no es (vacío) | P05D05 no es (vacío) | P05D05A no es (vacío) | P05D06 no es (vacío) | P05D07 no es (vacío) | P05D08 no es (vacío) | P05D09 no es (vacío) | P05D10 no es (vacío) | P05D11 no es (vacío) | P05D12 no es (vacío) | P05D13 no es (vacío) | P05D14 no es (vacío) |P05D15 no es (vacío) | P05E01 no es (vacío) | P05E01A no es (vacío))\")\n",
    "\n",
    "# df_a_unir = list(set([base_col.get(var) for var in variables]))\n",
    "#         # tipo = df_a_unir[0][-2:] # devuelve SR o PR\n",
    "\n",
    "# df_a_unir = [base_df.get(archivo) for archivo in df_a_unir] \n",
    "\n",
    "# df_base = base_df.get(f'level-1')\n",
    "# for df in df_a_unir:\n",
    "#     df = df.drop('INDEX', axis=1)\n",
    "#     df_base = pd.merge(df_base, df, on='LEVEL-1-ID', how='inner')\n",
    "\n",
    "# df_cases = base_df.get(f'cases')\n",
    "# df_base = pd.merge(df_base, df_cases, left_on='CASE-ID', right_on='ID', how='inner')\n",
    "# # Puede que el nombre de la variable DELETED cambie para la base de ENCABIH\n",
    "# df_base = df_base.query('DELETED == 0')\n",
    "import pandas as pd\n",
    "\n",
    "visitas_df = pd.read_feather(\"db/visitas.feather\")\n",
    "\n",
    "base_sql.base_col[\"OCC\"]"
   ]
  },
  {
   "cell_type": "code",
   "execution_count": null,
   "metadata": {},
   "outputs": [],
   "source": [
    "a = base_sql.df_para_condicion(condicion = \"P05B01 = 2 & (P05D01 no es (vacío) | P05D02 no es (vacío) | P05D02A no es (vacío) | P05D03 no es (vacío) | P05D04A no es (vacío) | P05D04B no es (vacío) | P05D05 no es (vacío) | P05D05A no es (vacío) | P05D06 no es (vacío) | P05D07 no es (vacío) | P05D08 no es (vacío) | P05D09 no es (vacío) | P05D10 no es (vacío) | P05D11 no es (vacío) | P05D12 no es (vacío) | P05D13 no es (vacío) | P05D14 no es (vacío) |P05D15 no es (vacío) | P05E01 no es (vacío) | P05E01A no es (vacío))\",\n",
    "                              fecha_inicio=\"2023-01-01\", \n",
    "                              fecha_final=\"2023-12-31\")\n",
    "\n"
   ]
  },
  {
   "cell_type": "code",
   "execution_count": null,
   "metadata": {},
   "outputs": [],
   "source": [
    "validador.subir_a_drive(\"C:/Users/rrcastillo/Desktop/car\")"
   ]
  },
  {
   "cell_type": "code",
   "execution_count": null,
   "metadata": {},
   "outputs": [],
   "source": [
    "import pandas as pd\n",
    "grupos_upm = pd.read_excel(\"UPMS.xlsx\")\n",
    "power_resumen = pd.read_excel(\"Mariajose/Validaciones_18-09-2023-13-06-27/InconsistenciasPowerBi_18-9-2023.xlsx\")\n",
    "\n",
    "upm_de_grupos = pd.DataFrame({\"UPM\" : grupos_upm[\"UPM\"].unique()})\n",
    "upm_de_grupos[\"CORRELATIVO\"] = range(upm_de_grupos.shape[0])\n",
    "upm_de_power = pd.DataFrame({\"UPM\" : power_resumen[\"COD_UPM\"].unique()})\n",
    "upm_de_power[\"CORRELATIVO\"] = range(upm_de_power.shape[0])\n",
    "# upm_de_power = upm_de_power.rename({\"0\":\"UPM\"})\n",
    "\n",
    "# a = pd.merge(upm_de_grupos, upm_de_power, on = \"UPM\")\n",
    "\n",
    "for a_upm_de_power in upm_de_power[\"UPM\"]:\n",
    "    if a_upm_de_power in upm_de_grupos[\"UPM\"]:\n",
    "        print(\"está\", a_upm_de_power)\n",
    "\n",
    "\"AEE010100025A1\" in upm_de_grupos[\"UPM\"].tolist()"
   ]
  }
 ],
 "metadata": {
  "kernelspec": {
   "display_name": "Python 3",
   "language": "python",
   "name": "python3"
  },
  "language_info": {
   "codemirror_mode": {
    "name": "ipython",
    "version": 3
   },
   "file_extension": ".py",
   "mimetype": "text/x-python",
   "name": "python",
   "nbconvert_exporter": "python",
   "pygments_lexer": "ipython3",
   "version": "3.11.2"
  },
  "orig_nbformat": 4
 },
 "nbformat": 4,
 "nbformat_minor": 2
}
